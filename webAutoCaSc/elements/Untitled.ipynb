{
 "cells": [
  {
   "cell_type": "code",
   "execution_count": 3,
   "id": "93d3faa9",
   "metadata": {},
   "outputs": [
    {
     "name": "stdout",
     "output_type": "stream",
     "text": [
      "['frontend/frontend.py:', '', '', '', '', '', '', '', '', '', '', '', '', '', '', '', 'tab_id=\"overview_tab\"\\n']\n",
      "['frontend/frontend.py:', '', '', '', '', '', '', '', '', '', '', '', 'tab_list.append(dbc.Tab(label=get_display_variant(_variant),', 'tab_id=f\"tab_{tab_num}\"))\\n']\n",
      "['frontend/frontend.py:', '', '', '', '', '', '', '', '', '', '', '', '', '', '', '', '', '', '', '', 'dcc.Store(id=\"active_variant_tab\"),\\n']\n",
      "['frontend/frontend.py:', '', '', '', '', '', '', '', '', '', '', '', '', '', '', '', '', '', '', '', '', '', '', '', '', '', '', '', '', '', '', '', '', '', '', '', 'id=\"card_tabs\",\\n']\n",
      "['frontend/frontend.py:', '', '', '', '', '', '', '', '', '', '', '', '', '', '', '', '', '', '', '', '', '', '', '', 'html.P(id=\"card_content\"),\\n']\n",
      "['frontend/frontend.py:', '', '', '', '', '', '', '', '', '', '', '', '', '', '', '', 'dbc.Badge(status_code,', 'color=error_color,', 'className=\"mx-2\",', 'id=f\"return_badge_{i}\"),\\n']\n",
      "['frontend/frontend.py:', '', '', '', '', '', '', '', '', '', '', '', '', '', '', '', '', '', '', '', 'dbc.Badge(\"SysID\",', 'color=sysid_color,', 'className=\"mx-2\",', 'id=\"sysid_badge\"),\\n']\n",
      "['frontend/frontend.py:', '', '', '', '', '', '', '', '', '', '', '', '', '', '', '', '', '', '', '', 'dbc.Badge(\"OMIM\",', 'color=omim_color,', 'className=\"mx-2\",', 'id=\"gene_badge\"),\\n']\n",
      "['frontend/frontend.py:', '', '', '', '#', '', '', '', '', '', '', '', '', '', '', '', '', 'dbc.Badge(status_code,', 'color=error_color,', 'className=\"mx-2\",', 'id=f\"return_badge_{i}\"),\\n']\n",
      "['frontend/callbacks/ResultCard.py:', '', '', '', '', '', '', '', '', '', '', '', '', '', '', '', '', '', '', '', '', '', '', '', '', '', '', 'id=f\"other_variant_target_{i}\"),\\n']\n",
      "['frontend/callbacks/ResultCard.py:', '', '', '', '', '', '', '', '', '', '', '', '', '', '', '', '', '', '', '', '', '', '', '', '', '', '', '', '', '', '', '', '', '', '', '', '', '', '', 'id=f\"hgvs_target_{i}\"),\\n']\n",
      "['frontend/callbacks/ResultCard.py:', '', '', '', '', '', '', '', '', '', '', '', '', '', '', '', '', '', '', '', '', '', '', '', '', '', '', '', '', '', '', '', '', '', '', '', '', '', '', 'id=\"download_button\",\\n']\n",
      "['frontend/callbacks/ResultCard.py:', '', '', '', '', '', '', '', '', '', '', '', '', '', '', '', '', '', '', '', '', '', '', '', '', '', '', '', '', '', '', '', '', '', '', '', '', '', '', '', '', '', '', '', '', '', '', '', '', '', '', '', '', '', '', 'id=\"download_button\",\\n']\n",
      "['frontend/callbacks/ResultCard.py:', '', '', '', '', '', '', '', '', '', '', '', '', '', '', '', '', '', '', '', '', '', '', '', '', '', '', '', '', '', '', '', '', '', '', '', '', '', '', '', '', '', '', '', '', '', '', '', '', '', '', '', '', '', '', '', 'id=\"percentile_target\"),\\n']\n",
      "['frontend/callbacks/ResultCard.py:', '', '', '', '', '', '', '', '', '', '', '', '', '', '', '', '', '', '', '', '', '', '', '', '', '', '', '', '', '', '', '', '', '', '', '', '', '', '', '', '', '', '', '', '', '', '', '', '', '', '', '', '', '', '', '', '', '', '', '', 'id=\"hover-target\",\\n']\n",
      "['frontend/callbacks/ResultCard.py:', '', '', '', '', '', '', '', '', '', '', '', '', '', '', '', '', '', '', '', '', '', '', '', '', '', '', '', '', '', '', '', '', '', '', '', 'id=f\"{_subscore}_description\",\\n']\n",
      "['frontend/callbacks/ResultCard.py:', '', '', '', '', '', '', '', '', '', '', '', '', '', '', '', '', '', '', '', '', '', '', '', '', '', '', '', '', '', '', '', '', '', '', '', 'id=f\"{_subscore}_explanation\",\\n']\n",
      "['frontend/callbacks/ResultCard.py:', '', '', '', '', '', '', '', '', '', '', '', '', '', '', '', '', '', '', '', '', '', '', '', '', '', '', '', '', '', '', '', '', '', '', '', 'id=f\"cell_{_parameter}\")\\n']\n",
      "['frontend/callbacks/ResultCard.py:', '', '', '', '', '', '', '', '', '', '', '', '', '', '', '', '', '', '', '', '', '', '', '', '', '', '', '', '', '', '', '', '', 'id=\"transcript_dropdown\"\\n']\n",
      "['frontend/callbacks/ResultCard.py:', '', '', '', '', '', '', '', '', '', '', '', '', '', '', '', '', '', '', '', '', '', '', '', '', '', '', '', 'id=\"collapse_button_transcripts\",\\n']\n",
      "['frontend/callbacks/ResultCard.py:', '', '', '', '', '', '', '', '', '', '', '', '', '', '', '', '', '', '', '', '', '', '', '', '', '', '', '', 'id=\"collapse_transcripts\",\\n']\n",
      "['frontend/input/input.py:', '', '', '', '', '', '', '', '', '', '', '', 'id=\"variant_input\",\\n']\n",
      "['frontend/input/input.py:', '', '', '', '', '', '', '', '', '', '', '', 'id=\"inheritance_input\",\\n']\n",
      "['frontend/landingpage/landingpage.py:', '', '', '', '', '', '', '', '', '', '', '', '', '', '', '', '', '', '', '', '', '', '', '', 'id=\"search_button\"\\n']\n",
      "['frontend/static_pages/about/about.py:', '', '', '', '', '', '', '', '', '', '', '', '', '', '', '', '', '', '', '', '', '', '', '', '', '', '', 'id=\"about_language_button\",\\n']\n",
      "['frontend/static_pages/about/about.py:', '', '', '', '', '', '', '', '', '', '', '', '', 'id=\"about_text\"),\\n']\n",
      "['frontend/static_pages/faq/faq.py:', '', '', '', '', '', '', '', '', '', '', '', '', '', '', '', '', '', '', '', '', '', '', '', '', '', '', 'id=\"faq_language_button\",\\n']\n",
      "['frontend/static_pages/faq/faq.py:', '', '', '', '', '', '', '', '', '', '', '', '', 'id=\"faq_text\",\\n']\n",
      "['frontend/static_pages/header_footer/footer.py:', '', '', '', '', '', '', '', '', '', '', '', 'dbc.NavbarToggler(id=\"footer-toggler\"),\\n']\n",
      "['frontend/static_pages/header_footer/footer.py:', '', '', '', '', '', '', '', '', '', '', '', '', '', '', '', 'id=\"footer-collapse\",\\n']\n",
      "['frontend/static_pages/header_footer/navbar.py:', '', '', '', '', '', '', '', '', '', '', '', '', '', '', '', '', '', '', '', 'dbc.NavbarToggler(id=\"navbar-toggler\"),\\n']\n",
      "['frontend/static_pages/header_footer/navbar.py:', '', '', '', '', '', '', '', '', '', '', '', '', '', '', '', '', '', '', '', '', '', '', '', 'id=\"navbar-collapse\",\\n']\n",
      "['frontend/static_pages/header_footer/urlbar.py:', '', '', '', '', '', '', '', 'dcc.Store(id=_store)', 'for', '_store', 'in', 'stores]', '+', '[\\n']\n",
      "['frontend/static_pages/header_footer/urlbar.py:', '', '', '', '', '', '', '', \"dcc.Location(id='url',\", 'refresh=False),\\n']\n",
      "['frontend/static_pages/header_footer/urlbar.py:', '', '', '', '', '', '', '', 'Download(id=\"download\"),\\n']\n",
      "['frontend/static_pages/header_footer/urlbar.py:', '', '', '', '', '', '', '', '', '', '', '', 'id=\"warning-toast\",\\n']\n",
      "['frontend/static_pages/header_footer/urlbar.py:', '', '', '', '', '', '', '', '', '', '', '', '', '', '', '', \"id='page-content',\\n\"]\n",
      "['frontend/static_pages/impressum/impressum.py:', '', '', '', '', '', '', '', '', '', '', '', '', '', '', '', '', '', '', '', '', '', '', '', '', '', '', '', '', '', '', 'id=\"impressum_language_button\",\\n']\n",
      "['frontend/static_pages/impressum/impressum.py:', '', '', '', '', '', '', '', '', '', '', '', '', '', '', '', '', 'id=\"impressum_text\"\\n']\n",
      "['frontend/static_pages/news/news.py:', '', '', '', '', '', '', '', '', '', '', '', 'id=\"faq_text\")\\n']\n"
     ]
    }
   ],
   "source": [
    "with open('id.txt') as f:\n",
    "    for l in f:\n",
    "        print(l.split(' '))"
   ]
  },
  {
   "cell_type": "code",
   "execution_count": null,
   "id": "a9381b0f",
   "metadata": {},
   "outputs": [],
   "source": []
  }
 ],
 "metadata": {
  "kernelspec": {
   "display_name": "Python 3 (ipykernel)",
   "language": "python",
   "name": "python3"
  },
  "language_info": {
   "codemirror_mode": {
    "name": "ipython",
    "version": 3
   },
   "file_extension": ".py",
   "mimetype": "text/x-python",
   "name": "python",
   "nbconvert_exporter": "python",
   "pygments_lexer": "ipython3",
   "version": "3.10.4"
  }
 },
 "nbformat": 4,
 "nbformat_minor": 5
}
